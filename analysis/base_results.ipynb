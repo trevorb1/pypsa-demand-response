{
 "cells": [
  {
   "cell_type": "code",
   "execution_count": 2,
   "metadata": {},
   "outputs": [],
   "source": [
    "import pypsa\n",
    "import pandas as pd\n",
    "import matplotlib.pyplot as plt\n",
    "from pathlib import Path"
   ]
  },
  {
   "cell_type": "code",
   "execution_count": 3,
   "metadata": {},
   "outputs": [],
   "source": [
    "ER20 = Path(\"..\",\"data\",\"networks\", \"er20\", \"western\", \"networks\", \"elec_s70_c4m_ec_lv1.0_1h-TCT_E-G.nc\")\n",
    "ER35 = Path(\"..\",\"data\",\"networks\", \"er20\", \"western\", \"networks\", \"elec_s70_c4m_ec_lv1.0_1h-TCT_E-G.nc\")\n",
    "ER50 = Path(\"..\",\"data\",\"networks\", \"er20\", \"western\", \"networks\", \"elec_s70_c4m_ec_lv1.0_1h-TCT_E-G.nc\")"
   ]
  },
  {
   "cell_type": "code",
   "execution_count": null,
   "metadata": {},
   "outputs": [],
   "source": [
    "n = pypsa.Network()"
   ]
  },
  {
   "cell_type": "code",
   "execution_count": null,
   "metadata": {},
   "outputs": [],
   "source": [
    "n = "
   ]
  }
 ],
 "metadata": {
  "kernelspec": {
   "display_name": ".venv",
   "language": "python",
   "name": "python3"
  },
  "language_info": {
   "codemirror_mode": {
    "name": "ipython",
    "version": 3
   },
   "file_extension": ".py",
   "mimetype": "text/x-python",
   "name": "python",
   "nbconvert_exporter": "python",
   "pygments_lexer": "ipython3",
   "version": "3.13.1"
  }
 },
 "nbformat": 4,
 "nbformat_minor": 2
}
